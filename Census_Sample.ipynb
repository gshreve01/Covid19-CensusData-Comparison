{
 "cells": [
  {
   "cell_type": "code",
<<<<<<< HEAD
   "execution_count": null,
=======
   "execution_count": 1,
>>>>>>> 5afeee32c5b7b5a4ff4bd059fb72fa111777fa60
   "metadata": {},
   "outputs": [],
   "source": [
    "# Dependencies\n",
    "from census import Census\n",
    "from config import (census_key, gkey)\n",
    "import gmaps\n",
    "import numpy as np\n",
    "import pandas as pd\n",
    "import requests\n",
    "import time\n",
    "from us import states\n",
    "from scipy.stats import linregress\n",
    "from matplotlib import pyplot as plt\n",
    "\n",
    "# Census API Key\n",
    "c = Census(census_key)\n",
    "\n",
    "# Base url\n",
    "url = \"https://api.census.gov/data/2019/pep/population?\"\n",
    "#get=COUNTY,DENSITY,POP,NAME,STATE&in=state:37&for=county:*&key=972cf3f08f68b6e55893b0ff405867f65ac840eb\""
   ]
  },
  {
   "cell_type": "code",
<<<<<<< HEAD
   "execution_count": null,
=======
   "execution_count": 2,
>>>>>>> 5afeee32c5b7b5a4ff4bd059fb72fa111777fa60
   "metadata": {},
   "outputs": [],
   "source": []
  },
  {
   "cell_type": "code",
<<<<<<< HEAD
   "execution_count": null,
   "metadata": {},
   "outputs": [],
   "source": []
  },
  {
   "cell_type": "code",
   "execution_count": null,
=======
   "execution_count": 3,
>>>>>>> 5afeee32c5b7b5a4ff4bd059fb72fa111777fa60
   "metadata": {},
   "outputs": [],
   "source": [
    "# c.acs5.tables()"
   ]
  },
  {
   "cell_type": "code",
<<<<<<< HEAD
   "execution_count": null,
=======
   "execution_count": 4,
>>>>>>> 5afeee32c5b7b5a4ff4bd059fb72fa111777fa60
   "metadata": {},
   "outputs": [],
   "source": [
    "response = requests.get(query_url + city).json()"
   ]
  },
  {
   "cell_type": "code",
<<<<<<< HEAD
   "execution_count": null,
=======
   "execution_count": 5,
>>>>>>> 5afeee32c5b7b5a4ff4bd059fb72fa111777fa60
   "metadata": {},
   "outputs": [],
   "source": [
    "#https://towardsdatascience.com/getting-census-data-in-5-easy-steps-a08eeb63995d\n",
    "#https://api.census.gov/data/2017/acs/acs5/variables.html"
   ]
  },
  {
   "cell_type": "code",
<<<<<<< HEAD
   "execution_count": null,
   "metadata": {},
   "outputs": [],
=======
   "execution_count": 6,
   "metadata": {},
   "outputs": [
    {
     "ename": "SyntaxError",
     "evalue": "invalid syntax (<ipython-input-6-5b255c125f79>, line 2)",
     "output_type": "error",
     "traceback": [
      "\u001b[1;36m  File \u001b[1;32m\"<ipython-input-6-5b255c125f79>\"\u001b[1;36m, line \u001b[1;32m2\u001b[0m\n\u001b[1;33m    Median Income = B19326_001E\u001b[0m\n\u001b[1;37m                ^\u001b[0m\n\u001b[1;31mSyntaxError\u001b[0m\u001b[1;31m:\u001b[0m invalid syntax\n"
     ]
    }
   ],
>>>>>>> 5afeee32c5b7b5a4ff4bd059fb72fa111777fa60
   "source": [
    "Population = B00001_001E\n",
    "Median Income = B19326_001E\n",
    "Total Pop by Tenure = B25008_002E"
   ]
  },
  {
   "cell_type": "code",
<<<<<<< HEAD
   "execution_count": null,
   "metadata": {},
   "outputs": [],
=======
   "execution_count": 7,
   "metadata": {},
   "outputs": [
    {
     "name": "stdout",
     "output_type": "stream",
     "text": [
      "2\n"
     ]
    },
    {
     "data": {
      "text/html": [
       "<div>\n",
       "<style scoped>\n",
       "    .dataframe tbody tr th:only-of-type {\n",
       "        vertical-align: middle;\n",
       "    }\n",
       "\n",
       "    .dataframe tbody tr th {\n",
       "        vertical-align: top;\n",
       "    }\n",
       "\n",
       "    .dataframe thead th {\n",
       "        text-align: right;\n",
       "    }\n",
       "</style>\n",
       "<table border=\"1\" class=\"dataframe\">\n",
       "  <thead>\n",
       "    <tr style=\"text-align: right;\">\n",
       "      <th></th>\n",
       "      <th>Population</th>\n",
       "      <th>Media Income</th>\n",
       "      <th>Total Population by Tenure</th>\n",
       "      <th>Zipcode</th>\n",
       "    </tr>\n",
       "  </thead>\n",
       "  <tbody>\n",
       "    <tr>\n",
       "      <th>0</th>\n",
       "      <td>3433.0</td>\n",
       "      <td>34820.0</td>\n",
       "      <td>34318.0</td>\n",
       "      <td>28105</td>\n",
       "    </tr>\n",
       "    <tr>\n",
       "      <th>1</th>\n",
       "      <td>816.0</td>\n",
       "      <td>54255.0</td>\n",
       "      <td>3509.0</td>\n",
       "      <td>28202</td>\n",
       "    </tr>\n",
       "  </tbody>\n",
       "</table>\n",
       "</div>"
      ],
      "text/plain": [
       "   Population  Media Income  Total Population by Tenure Zipcode\n",
       "0      3433.0       34820.0                     34318.0   28105\n",
       "1       816.0       54255.0                      3509.0   28202"
      ]
     },
     "execution_count": 7,
     "metadata": {},
     "output_type": "execute_result"
    }
   ],
>>>>>>> 5afeee32c5b7b5a4ff4bd059fb72fa111777fa60
   "source": [
    "zcodes:['28201', '28202', '28203', '28204', '28205', '28206', '28207', '28208', '28209', '28210', '28211', '28212', '28213', '28214', '28215', '28216', '28217', '28218', '28219', '28220', '28221', '28222', '28223', '28224', '28226', '28227', '28228', '28229', '28230', '28231', '28232', '28233', '28234', '28235', '28236', '28237', '28241', '28242', '28243', '28244', '28246', '28247', '28250', '28253', '28254', '28255', '28256', '28258', '28260', '28262', '28263', '28265', '28266', '28269', '28270', '28271', '28272', '28273', '28274', '28275', '28277', '28278', '28280', '28281', '28282', '28284', '28285', '28287', '28288', '28289', '28290', '28296', '28297', '28299']\n",
    "    \n",
    "census_data = c.acs5.get((\"B00001_001E\", \"B19326_001E\", \"B25008_002E\"),{'for': 'zip code tabulation area:28202,28105'})\n",
    "\n",
    "# Convert to DataFrame\n",
    "census_pd = pd.DataFrame(census_data)\n",
    "\n",
    "# Column Reordering\n",
    "census_pd = census_pd.rename(columns={\"B00001_001E\": \"Population\",\n",
    "                                      \"B19326_001E\": \"Media Income\",\n",
    "                                      \"B25008_002E\": \"Total Population by Tenure\",\n",
    "                                      \"zip code tabulation area\": \"Zipcode\"})\n",
    "\n",
    "# Final DataFrame\n",
    "#census_pd = census_pd[[\"Zipcode\", \"Population\", \"Poverty Rate\"]census_pd = census_pd[[\"Zipcode\", \"Population\", \"Poverty Rate\"]\"]\n",
    "\n",
    "# Visualize\n",
    "print(len(census_pd))\n",
    "census_pd.head()"
   ]
  },
  {
   "cell_type": "code",
   "execution_count": null,
   "metadata": {},
   "outputs": [],
   "source": [
    "base_url = https://api.census.gov/data/2019/pep/population?get=COUNTY,DENSITY,POP,NAME,STATE&in=state:37&for=county:*&key=972cf3f08f68b6e55893b0ff405867f65ac840eb"
   ]
  },
  {
   "cell_type": "code",
   "execution_count": null,
   "metadata": {},
   "outputs": [],
   "source": []
  }
 ],
 "metadata": {
  "kernelspec": {
   "display_name": "Python 3",
   "language": "python",
   "name": "python3"
  },
  "language_info": {
   "codemirror_mode": {
    "name": "ipython",
    "version": 3
   },
   "file_extension": ".py",
   "mimetype": "text/x-python",
   "name": "python",
   "nbconvert_exporter": "python",
   "pygments_lexer": "ipython3",
   "version": "3.7.4"
  }
 },
 "nbformat": 4,
 "nbformat_minor": 4
}
